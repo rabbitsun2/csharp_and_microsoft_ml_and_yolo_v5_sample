{
 "cells": [
  {
   "cell_type": "code",
   "execution_count": 5,
   "id": "707230a8",
   "metadata": {},
   "outputs": [
    {
     "name": "stdout",
     "output_type": "stream",
     "text": [
      "/home/rabbitsun2/jupyter_notebook/roboflow/garbage_classification_3\n",
      "/home/rabbitsun2/jupyter_notebook/roboflow/garbage_classification_3\n"
     ]
    }
   ],
   "source": [
    "import os\n",
    "%cd /home/rabbitsun2/jupyter_notebook/roboflow/garbage_classification_3\n",
    "HOME = os.getcwd()\n",
    "print(HOME)"
   ]
  },
  {
   "cell_type": "code",
   "execution_count": 7,
   "id": "7bf044f2",
   "metadata": {},
   "outputs": [],
   "source": [
    "\n",
    "from glob import glob\n",
    " \n",
    "# 이미지들의 주소 리스트로 만들어줌\n",
    "train_img_list = glob('/home/rabbitsun2/jupyter_notebook/roboflow/garbage_classification_3/train/images/*.jpg')\n",
    "valid_img_list = glob('/home/rabbitsun2/jupyter_notebook/roboflow/garbage_classification_3/valid/images/*.jpg')\n",
    " \n",
    "# 리스트를 txt파일로 생성\n",
    "with open('/home/rabbitsun2/jupyter_notebook/roboflow/garbage_classification_3/train.txt', 'w') as f:\n",
    "\tf.write('\\n'.join(train_img_list) + '\\n')\n",
    "    \n",
    "with open('/home/rabbitsun2/jupyter_notebook/roboflow/garbage_classification_3/valid.txt', 'w') as f:\n",
    "\tf.write('\\n'.join(valid_img_list) + '\\n')\n"
   ]
  },
  {
   "cell_type": "code",
   "execution_count": 11,
   "id": "d3eb4488",
   "metadata": {},
   "outputs": [
    {
     "name": "stdout",
     "output_type": "stream",
     "text": [
      "{'names': ['BIODEGRADABLE', 'CARDBOARD', 'GLASS', 'METAL', 'PAPER', 'PLASTIC'], 'nc': 6, 'roboflow': {'license': 'CC BY 4.0', 'project': 'garbage-classification-3', 'url': 'https://universe.roboflow.com/material-identification/garbage-classification-3/dataset/2', 'version': 2, 'workspace': 'material-identification'}, 'test': '../test/images', 'train': '/home/rabbitsun2/jupyter_notebook/roboflow/garbage_classification_3/train.txt', 'val': '../valid/images', 'valid': '/home/rabbitsun2/jupyter_notebook/roboflow/garbage_classification_3/valid.txt'}\n"
     ]
    }
   ],
   "source": [
    "import yaml\n",
    " \n",
    "with open('/home/rabbitsun2/jupyter_notebook/roboflow/garbage_classification_3/data.yaml', 'r') as f:\n",
    "\tdata = yaml.full_load(f)\n",
    "    \n",
    "#print(data)\n",
    " \n",
    "data['train'] = '/home/rabbitsun2/jupyter_notebook/roboflow/garbage_classification_3/train.txt'\n",
    "data['valid'] = '/home/rabbitsun2/jupyter_notebook/roboflow/garbage_classification_3/valid.txt'\n",
    " \n",
    "with open('/home/rabbitsun2/jupyter_notebook/roboflow/garbage_classification_3/data.yaml', 'w') as f:\n",
    "\tyaml.dump(data, f)\n",
    "    \n",
    "print(data)\n",
    " \n"
   ]
  },
  {
   "cell_type": "code",
   "execution_count": 12,
   "id": "08481d3b",
   "metadata": {},
   "outputs": [
    {
     "name": "stdout",
     "output_type": "stream",
     "text": [
      "/home/rabbitsun2/yolov5\n"
     ]
    }
   ],
   "source": [
    "%cd /home/rabbitsun2/yolov5\n"
   ]
  },
  {
   "cell_type": "code",
   "execution_count": 15,
   "id": "eacfb109",
   "metadata": {
    "scrolled": false
   },
   "outputs": [
    {
     "name": "stdout",
     "output_type": "stream",
     "text": [
      "\u001b[34m\u001b[1mtrain: \u001b[0mweights=yolov5s.pt, cfg=./models/yolov5s.yaml, data=/home/rabbitsun2/jupyter_notebook/roboflow/garbage_classification_3/data.yaml, hyp=data/hyps/hyp.scratch-low.yaml, epochs=20, batch_size=16, imgsz=640, rect=False, resume=False, nosave=False, noval=False, noautoanchor=False, noplots=False, evolve=None, bucket=, cache=None, image_weights=False, device=, multi_scale=False, single_cls=False, optimizer=SGD, sync_bn=False, workers=8, project=runs/train, name=yolov5_coco, exist_ok=False, quad=False, cos_lr=False, label_smoothing=0.0, patience=100, freeze=[0], save_period=-1, seed=0, local_rank=-1, entity=None, upload_dataset=False, bbox_interval=-1, artifact_alias=latest\n",
      "\u001b[34m\u001b[1mgithub: \u001b[0mup to date with https://github.com/ultralytics/yolov5 ✅\n",
      "YOLOv5 🚀 v7.0-132-ga82132c Python-3.10.9 torch-2.0.0 CUDA:0 (NVIDIA T1000 8GB, 7975MiB)\n",
      "\n",
      "\u001b[34m\u001b[1mhyperparameters: \u001b[0mlr0=0.01, lrf=0.01, momentum=0.937, weight_decay=0.0005, warmup_epochs=3.0, warmup_momentum=0.8, warmup_bias_lr=0.1, box=0.05, cls=0.5, cls_pw=1.0, obj=1.0, obj_pw=1.0, iou_t=0.2, anchor_t=4.0, fl_gamma=0.0, hsv_h=0.015, hsv_s=0.7, hsv_v=0.4, degrees=0.0, translate=0.1, scale=0.5, shear=0.0, perspective=0.0, flipud=0.0, fliplr=0.5, mosaic=1.0, mixup=0.0, copy_paste=0.0\n",
      "\u001b[34m\u001b[1mClearML: \u001b[0mrun 'pip install clearml' to automatically track, visualize and remotely train YOLOv5 🚀 in ClearML\n",
      "\u001b[34m\u001b[1mComet: \u001b[0mrun 'pip install comet_ml' to automatically track and visualize YOLOv5 🚀 runs in Comet\n",
      "\u001b[34m\u001b[1mTensorBoard: \u001b[0mStart with 'tensorboard --logdir runs/train', view at http://localhost:6006/\n",
      "Downloading https://github.com/ultralytics/yolov5/releases/download/v7.0/yolov5s.pt to yolov5s.pt...\n",
      "100%|██████████████████████████████████████| 14.1M/14.1M [00:01<00:00, 10.7MB/s]\n",
      "\n",
      "Overriding model.yaml nc=80 with nc=6\n",
      "\n",
      "                 from  n    params  module                                  arguments                     \n",
      "  0                -1  1      3520  models.common.Conv                      [3, 32, 6, 2, 2]              \n",
      "  1                -1  1     18560  models.common.Conv                      [32, 64, 3, 2]                \n",
      "  2                -1  1     18816  models.common.C3                        [64, 64, 1]                   \n",
      "  3                -1  1     73984  models.common.Conv                      [64, 128, 3, 2]               \n",
      "  4                -1  2    115712  models.common.C3                        [128, 128, 2]                 \n",
      "  5                -1  1    295424  models.common.Conv                      [128, 256, 3, 2]              \n",
      "  6                -1  3    625152  models.common.C3                        [256, 256, 3]                 \n",
      "  7                -1  1   1180672  models.common.Conv                      [256, 512, 3, 2]              \n",
      "  8                -1  1   1182720  models.common.C3                        [512, 512, 1]                 \n",
      "  9                -1  1    656896  models.common.SPPF                      [512, 512, 5]                 \n",
      " 10                -1  1    131584  models.common.Conv                      [512, 256, 1, 1]              \n",
      " 11                -1  1         0  torch.nn.modules.upsampling.Upsample    [None, 2, 'nearest']          \n",
      " 12           [-1, 6]  1         0  models.common.Concat                    [1]                           \n",
      " 13                -1  1    361984  models.common.C3                        [512, 256, 1, False]          \n",
      " 14                -1  1     33024  models.common.Conv                      [256, 128, 1, 1]              \n",
      " 15                -1  1         0  torch.nn.modules.upsampling.Upsample    [None, 2, 'nearest']          \n",
      " 16           [-1, 4]  1         0  models.common.Concat                    [1]                           \n",
      " 17                -1  1     90880  models.common.C3                        [256, 128, 1, False]          \n",
      " 18                -1  1    147712  models.common.Conv                      [128, 128, 3, 2]              \n",
      " 19          [-1, 14]  1         0  models.common.Concat                    [1]                           \n",
      " 20                -1  1    296448  models.common.C3                        [256, 256, 1, False]          \n",
      " 21                -1  1    590336  models.common.Conv                      [256, 256, 3, 2]              \n",
      " 22          [-1, 10]  1         0  models.common.Concat                    [1]                           \n",
      " 23                -1  1   1182720  models.common.C3                        [512, 512, 1, False]          \n",
      " 24      [17, 20, 23]  1     29667  models.yolo.Detect                      [6, [[10, 13, 16, 30, 33, 23], [30, 61, 62, 45, 59, 119], [116, 90, 156, 198, 373, 326]], [128, 256, 512]]\n",
      "YOLOv5s summary: 214 layers, 7035811 parameters, 7035811 gradients, 16.0 GFLOPs\n",
      "\n",
      "Transferred 342/349 items from yolov5s.pt\n",
      "\u001b[34m\u001b[1mAMP: \u001b[0mchecks passed ✅\n",
      "\u001b[34m\u001b[1moptimizer:\u001b[0m SGD(lr=0.01) with parameter groups 57 weight(decay=0.0), 60 weight(decay=0.0005), 60 bias\n",
      "\u001b[34m\u001b[1mtrain: \u001b[0mScanning /home/rabbitsun2/jupyter_notebook/roboflow/garbage_classificatio\u001b[0m\n",
      "\u001b[34m\u001b[1mtrain: \u001b[0mNew cache created: /home/rabbitsun2/jupyter_notebook/roboflow/garbage_classification_3/train.cache\n",
      "\u001b[34m\u001b[1mval: \u001b[0mScanning /home/rabbitsun2/jupyter_notebook/roboflow/garbage_classification_\u001b[0m\n",
      "\u001b[34m\u001b[1mval: \u001b[0mNew cache created: /home/rabbitsun2/jupyter_notebook/roboflow/garbage_classification_3/valid/labels.cache\n",
      "\n",
      "\u001b[34m\u001b[1mAutoAnchor: \u001b[0m4.62 anchors/target, 0.999 Best Possible Recall (BPR). Current anchors are a good fit to dataset ✅\n",
      "Plotting labels to runs/train/yolov5_coco2/labels.jpg... \n",
      "Image sizes 640 train, 640 val\n",
      "Using 4 dataloader workers\n",
      "Logging results to \u001b[1mruns/train/yolov5_coco2\u001b[0m\n",
      "Starting training for 20 epochs...\n",
      "\n",
      "      Epoch    GPU_mem   box_loss   obj_loss   cls_loss  Instances       Size\n",
      "       0/19      3.47G    0.07792    0.07172    0.03448        277        640: 1\n",
      "                 Class     Images  Instances          P          R      mAP50   \n",
      "                   all       2098      18916      0.176      0.206      0.138     0.0658\n",
      "\n",
      "      Epoch    GPU_mem   box_loss   obj_loss   cls_loss  Instances       Size\n",
      "       1/19      4.29G    0.05989    0.06933    0.02314        132        640: 1\n",
      "                 Class     Images  Instances          P          R      mAP50   \n",
      "                   all       2098      18916      0.221      0.266      0.182     0.0853\n",
      "\n",
      "      Epoch    GPU_mem   box_loss   obj_loss   cls_loss  Instances       Size\n",
      "       2/19      4.29G    0.05748    0.06905    0.02092        241        640: 1\n",
      "                 Class     Images  Instances          P          R      mAP50   \n",
      "                   all       2098      18916      0.392      0.261      0.263      0.133\n",
      "\n",
      "      Epoch    GPU_mem   box_loss   obj_loss   cls_loss  Instances       Size\n",
      "       3/19      4.29G    0.05659     0.0724    0.01998         82        640: 1\n",
      "                 Class     Images  Instances          P          R      mAP50   \n",
      "                   all       2098      18916      0.374      0.293      0.295      0.157\n",
      "\n",
      "      Epoch    GPU_mem   box_loss   obj_loss   cls_loss  Instances       Size\n",
      "       4/19      4.29G    0.05414    0.07159    0.01838         76        640: 1\n",
      "                 Class     Images  Instances          P          R      mAP50   \n",
      "                   all       2098      18916       0.36      0.326      0.285      0.143\n",
      "\n",
      "      Epoch    GPU_mem   box_loss   obj_loss   cls_loss  Instances       Size\n",
      "       5/19      4.29G     0.0528    0.06969    0.01646         76        640: 1\n",
      "                 Class     Images  Instances          P          R      mAP50   \n",
      "                   all       2098      18916      0.461      0.347      0.363      0.198\n",
      "\n",
      "      Epoch    GPU_mem   box_loss   obj_loss   cls_loss  Instances       Size\n",
      "       6/19      4.29G    0.05165    0.07062    0.01575        153        640: 1\n",
      "                 Class     Images  Instances          P          R      mAP50   \n",
      "                   all       2098      18916      0.457      0.356      0.363      0.201\n",
      "\n",
      "      Epoch    GPU_mem   box_loss   obj_loss   cls_loss  Instances       Size\n",
      "       7/19      4.29G    0.05081    0.06831    0.01378         85        640: 1\n",
      "                 Class     Images  Instances          P          R      mAP50   \n",
      "                   all       2098      18916      0.459      0.336      0.358      0.194\n",
      "\n",
      "      Epoch    GPU_mem   box_loss   obj_loss   cls_loss  Instances       Size\n",
      "       8/19      4.29G    0.05037    0.06925    0.01377        177        640: 1\n",
      "                 Class     Images  Instances          P          R      mAP50   \n",
      "                   all       2098      18916      0.511      0.378      0.407      0.232\n",
      "\n",
      "      Epoch    GPU_mem   box_loss   obj_loss   cls_loss  Instances       Size\n",
      "       9/19      4.29G    0.04918    0.06728    0.01268         85        640: 1\n",
      "                 Class     Images  Instances          P          R      mAP50   \n",
      "                   all       2098      18916      0.486      0.389       0.41      0.235\n",
      "\n",
      "      Epoch    GPU_mem   box_loss   obj_loss   cls_loss  Instances       Size\n",
      "      10/19      4.29G     0.0494    0.06555    0.01166        117        640: 1\n",
      "                 Class     Images  Instances          P          R      mAP50   \n",
      "                   all       2098      18916      0.502      0.404      0.428      0.247\n",
      "\n",
      "      Epoch    GPU_mem   box_loss   obj_loss   cls_loss  Instances       Size\n",
      "      11/19      4.29G    0.04813    0.06452    0.01093        109        640: 1\n",
      "                 Class     Images  Instances          P          R      mAP50   \n",
      "                   all       2098      18916      0.508      0.402      0.439      0.265\n",
      "\n",
      "      Epoch    GPU_mem   box_loss   obj_loss   cls_loss  Instances       Size\n",
      "      12/19      4.29G    0.04764    0.06471    0.01013        123        640: 1\n",
      "                 Class     Images  Instances          P          R      mAP50   \n",
      "                   all       2098      18916      0.542      0.417      0.453      0.265\n",
      "\n",
      "      Epoch    GPU_mem   box_loss   obj_loss   cls_loss  Instances       Size\n",
      "      13/19      4.29G    0.04716    0.06498    0.00946        111        640: 1\n",
      "                 Class     Images  Instances          P          R      mAP50   \n",
      "                   all       2098      18916      0.544      0.414      0.455      0.266\n",
      "\n",
      "      Epoch    GPU_mem   box_loss   obj_loss   cls_loss  Instances       Size\n",
      "      14/19      4.29G    0.04559    0.06217   0.009477        207        640: 1\n",
      "                 Class     Images  Instances          P          R      mAP50   \n",
      "                   all       2098      18916      0.535      0.441      0.477      0.286\n",
      "\n",
      "      Epoch    GPU_mem   box_loss   obj_loss   cls_loss  Instances       Size\n",
      "      15/19      4.29G    0.04594    0.06335   0.008249        167        640: 1\n",
      "                 Class     Images  Instances          P          R      mAP50   \n",
      "                   all       2098      18916      0.528      0.437       0.47      0.282\n",
      "\n",
      "      Epoch    GPU_mem   box_loss   obj_loss   cls_loss  Instances       Size\n",
      "      16/19      4.29G    0.04505    0.06192    0.00778        135        640: 1\n",
      "                 Class     Images  Instances          P          R      mAP50   \n",
      "                   all       2098      18916      0.536      0.431      0.473       0.29\n",
      "\n",
      "      Epoch    GPU_mem   box_loss   obj_loss   cls_loss  Instances       Size\n",
      "      17/19      4.29G    0.04481    0.06204   0.007223        158        640: 1\n",
      "                 Class     Images  Instances          P          R      mAP50   \n",
      "                   all       2098      18916      0.569      0.438       0.49        0.3\n",
      "\n",
      "      Epoch    GPU_mem   box_loss   obj_loss   cls_loss  Instances       Size\n",
      "      18/19      4.29G    0.04453    0.06171   0.007207        152        640: 1\n",
      "                 Class     Images  Instances          P          R      mAP50   \n",
      "                   all       2098      18916      0.574      0.449      0.507      0.315\n",
      "\n",
      "      Epoch    GPU_mem   box_loss   obj_loss   cls_loss  Instances       Size\n",
      "      19/19      4.29G    0.04421     0.0612   0.006407        112        640: 1\n",
      "                 Class     Images  Instances          P          R      mAP50   \n",
      "                   all       2098      18916      0.575       0.44      0.504      0.313\n",
      "\n",
      "20 epochs completed in 6.909 hours.\n",
      "Optimizer stripped from runs/train/yolov5_coco2/weights/last.pt, 14.5MB\n",
      "Optimizer stripped from runs/train/yolov5_coco2/weights/best.pt, 14.5MB\n",
      "\n",
      "Validating runs/train/yolov5_coco2/weights/best.pt...\n",
      "Fusing layers... \n",
      "YOLOv5s summary: 157 layers, 7026307 parameters, 0 gradients, 15.8 GFLOPs\n",
      "                 Class     Images  Instances          P          R      mAP50   \n",
      "                   all       2098      18916      0.575      0.447      0.507      0.315\n",
      "         BIODEGRADABLE       2098      13637      0.806      0.488      0.632      0.333\n",
      "             CARDBOARD       2098       1292      0.808      0.391      0.556      0.371\n",
      "                 GLASS       2098       2380      0.859      0.659      0.786      0.519\n",
      "                 METAL       2098       1360      0.682      0.621      0.649      0.394\n",
      "                 PAPER       2098         33     0.0464     0.0606     0.0509     0.0489\n",
      "               PLASTIC       2098        214      0.249      0.466      0.368      0.226\n",
      "Results saved to \u001b[1mruns/train/yolov5_coco2\u001b[0m\n"
     ]
    }
   ],
   "source": [
    "!python train.py --img 640 --batch 16 --epochs 20 --data /home/rabbitsun2/jupyter_notebook/roboflow/garbage_classification_3/data.yaml --cfg ./models/yolov5s.yaml --weights yolov5s.pt --name yolov5_coco"
   ]
  },
  {
   "cell_type": "code",
   "execution_count": null,
   "id": "ae92d249",
   "metadata": {},
   "outputs": [],
   "source": [
    "!python detect.py --weights runs/train/yolov5_coco2/weights/best.pt --source https://youtu.be/lFeaDOzRs4w"
   ]
  },
  {
   "cell_type": "code",
   "execution_count": 18,
   "id": "70191b89",
   "metadata": {},
   "outputs": [
    {
     "name": "stdout",
     "output_type": "stream",
     "text": [
      "The tensorboard extension is already loaded. To reload it, use:\n",
      "  %reload_ext tensorboard\n"
     ]
    }
   ],
   "source": [
    "%load_ext tensorboard"
   ]
  },
  {
   "cell_type": "code",
   "execution_count": 19,
   "id": "12bd3979",
   "metadata": {},
   "outputs": [
    {
     "data": {
      "text/plain": [
       "Reusing TensorBoard on port 6006 (pid 12697), started 0:14:56 ago. (Use '!kill 12697' to kill it.)"
      ]
     },
     "metadata": {},
     "output_type": "display_data"
    },
    {
     "data": {
      "text/html": [
       "\n",
       "      <iframe id=\"tensorboard-frame-e1b07e8e3580c214\" width=\"100%\" height=\"800\" frameborder=\"0\">\n",
       "      </iframe>\n",
       "      <script>\n",
       "        (function() {\n",
       "          const frame = document.getElementById(\"tensorboard-frame-e1b07e8e3580c214\");\n",
       "          const url = new URL(\"/\", window.location);\n",
       "          const port = 6006;\n",
       "          if (port) {\n",
       "            url.port = port;\n",
       "          }\n",
       "          frame.src = url;\n",
       "        })();\n",
       "      </script>\n",
       "    "
      ],
      "text/plain": [
       "<IPython.core.display.HTML object>"
      ]
     },
     "metadata": {},
     "output_type": "display_data"
    }
   ],
   "source": [
    "%tensorboard --logdir /home/rabbitsun2/yolov5/runs/ --host=0.0.0.0 --port 6006"
   ]
  },
  {
   "cell_type": "code",
   "execution_count": 20,
   "id": "3bed8def",
   "metadata": {},
   "outputs": [],
   "source": [
    "!kill 12697"
   ]
  },
  {
   "cell_type": "code",
   "execution_count": null,
   "id": "41efa627",
   "metadata": {},
   "outputs": [],
   "source": [
    "python3 export.py --weights /home/rabbitsun2/yolov5/runs/train/yolov5_coco2/weights/best.pt --include onnx --dynamic"
   ]
  }
 ],
 "metadata": {
  "kernelspec": {
   "display_name": "Python(torchenv)",
   "language": "python",
   "name": "torchenv"
  },
  "language_info": {
   "codemirror_mode": {
    "name": "ipython",
    "version": 3
   },
   "file_extension": ".py",
   "mimetype": "text/x-python",
   "name": "python",
   "nbconvert_exporter": "python",
   "pygments_lexer": "ipython3",
   "version": "3.11.2"
  }
 },
 "nbformat": 4,
 "nbformat_minor": 5
}
